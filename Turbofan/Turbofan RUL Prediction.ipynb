{
 "cells": [
  {
   "cell_type": "code",
   "execution_count": 1,
   "metadata": {},
   "outputs": [],
   "source": [
    "# import dependencies\n",
    "import tensorflow as tf\n",
    "import tensorflow.keras.backend as K\n",
    "from tensorflow.keras.layers import Activation\n",
    "from tensorflow.keras.models import Sequential\n",
    "from tensorflow.keras.layers import Dense, Dropout, LSTM, Conv1D, MaxPooling1D, Flatten\n",
    "from tensorflow.keras import optimizers\n",
    "from tensorflow.keras.callbacks import LearningRateScheduler\n",
    "from tensorflow.keras.models import load_model\n",
    "\n",
    "import pandas as pd\n",
    "import numpy as np\n",
    "import matplotlib.pyplot as plt\n",
    "import time\n",
    "import datetime\n",
    "import math\n",
    "import shap\n",
    "\n",
    "import os"
   ]
  },
  {
   "cell_type": "code",
   "execution_count": 2,
   "metadata": {},
   "outputs": [],
   "source": [
    "# where to save the model output file\n",
    "output_path = 'models/tubrofan_cnn.h5'"
   ]
  },
  {
   "cell_type": "code",
   "execution_count": 3,
   "metadata": {},
   "outputs": [],
   "source": [
    "# load data\n",
    "train_data = pd.read_csv('input/train_mm.csv')\n",
    "test_data = pd.read_csv(\"input/test_mm.csv\")\n",
    "n_turb = train_data['id'].unique().max()"
   ]
  },
  {
   "cell_type": "markdown",
   "metadata": {},
   "source": [
    "## 1 Preprocessing\n",
    "Tensorflow NNs need a certain shape for the training data: (samples, time window, features)"
   ]
  },
  {
   "cell_type": "code",
   "execution_count": 4,
   "metadata": {},
   "outputs": [],
   "source": [
    "# sensor selection based on Li2018\n",
    "sensor_sel = ['s2','s3','s4','s7','s8','s9','s11','s12','s13','s14','s15','s17','s20','s21']\n",
    "\n",
    "# time window size based on Li2018\n",
    "time_window = 30"
   ]
  },
  {
   "cell_type": "code",
   "execution_count": 5,
   "metadata": {},
   "outputs": [],
   "source": [
    "# function to reshape features into (samples, time steps, features) based on Vardoom2018\n",
    "def reshapeFeatures(id_df, time_window, seq_cols):\n",
    "    data_matrix = id_df[seq_cols].values\n",
    "    num_elements = data_matrix.shape[0]\n",
    "    for start, stop in zip(range(0, num_elements-time_window), range(time_window, num_elements)):\n",
    "        yield data_matrix[start:stop, :]"
   ]
  },
  {
   "cell_type": "code",
   "execution_count": 6,
   "metadata": {},
   "outputs": [
    {
     "name": "stdout",
     "output_type": "stream",
     "text": [
      "New shape of train_data: 17631 samples, 30 cycles and 14 features.\n"
     ]
    }
   ],
   "source": [
    "# generator for the sequences\n",
    "feat_gen = (list(reshapeFeatures(train_data[train_data['id']==id], time_window, sensor_sel)) \n",
    "           for id in range(1, n_turb + 1))\n",
    "\n",
    "# generate sequences and convert to numpy array\n",
    "train_array = np.concatenate(list(feat_gen)).astype(np.float32)\n",
    "\n",
    "print(\"New shape of train_data: {} samples, {} cycles and {} features.\".format(train_array.shape[0],\n",
    "                                                                                  train_array.shape[1],\n",
    "                                                                                  train_array.shape[2]))"
   ]
  },
  {
   "cell_type": "markdown",
   "metadata": {},
   "source": [
    "Create labels for the train set based on the RUL values."
   ]
  },
  {
   "cell_type": "code",
   "execution_count": 7,
   "metadata": {},
   "outputs": [
    {
     "name": "stdout",
     "output_type": "stream",
     "text": [
      "(17631, 1)\n"
     ]
    }
   ],
   "source": [
    "# function to generate labels based on Vardoom2018\n",
    "def reshapeLabel(id_df, seq_length=time_window, label=['RUL']):\n",
    "    data_matrix = id_df[label].values\n",
    "    num_elements = data_matrix.shape[0]\n",
    "    return data_matrix[seq_length: num_elements, :]\n",
    "\n",
    "# generate labels\n",
    "label_gen = [reshapeLabel(train_data[train_data['id']==id]) for id in range(1, n_turb + 1)]\n",
    "\n",
    "label_array = np.concatenate(label_gen).astype(np.float32)\n",
    "\n",
    "print(label_array.shape)"
   ]
  },
  {
   "cell_type": "markdown",
   "metadata": {},
   "source": [
    "Create labels for the test set based on the RUL values."
   ]
  },
  {
   "cell_type": "code",
   "execution_count": 8,
   "metadata": {},
   "outputs": [],
   "source": [
    "# pick the last sequence for each id in the test data\n",
    "seq_array_test_last = [test_data[test_data['id']==id][sensor_sel].values[-time_window:] \n",
    "                       for id in range(1, n_turb + 1) if len(test_data[test_data['id']==id]) >= time_window]\n",
    "\n",
    "seq_array_test_last = np.asarray(seq_array_test_last).astype(np.float32)"
   ]
  },
  {
   "cell_type": "code",
   "execution_count": 9,
   "metadata": {},
   "outputs": [
    {
     "name": "stdout",
     "output_type": "stream",
     "text": [
      "New shape of the test set: 100 turbines, 30 cycles and 14 features.\n"
     ]
    }
   ],
   "source": [
    "print(\"New shape of the test set: {} turbines, {} cycles and {} features.\".format(\n",
    "    seq_array_test_last.shape[0], seq_array_test_last.shape[1], seq_array_test_last.shape[2]))"
   ]
  },
  {
   "cell_type": "code",
   "execution_count": 10,
   "metadata": {},
   "outputs": [],
   "source": [
    "y_mask = [len(test_data[test_data['id']==id]) >= time_window for id in test_data['id'].unique()]\n",
    "label_array_test_last = test_data.groupby('id')['RUL'].nth(-1)[y_mask].values\n",
    "label_array_test_last = label_array_test_last.reshape(label_array_test_last.shape[0],1).astype(np.float32)"
   ]
  },
  {
   "cell_type": "code",
   "execution_count": 11,
   "metadata": {},
   "outputs": [
    {
     "name": "stdout",
     "output_type": "stream",
     "text": [
      "(100, 1)\n"
     ]
    }
   ],
   "source": [
    "print(label_array_test_last.shape)"
   ]
  },
  {
   "cell_type": "markdown",
   "metadata": {},
   "source": [
    "## 2 Model Training"
   ]
  },
  {
   "cell_type": "markdown",
   "metadata": {},
   "source": [
    "### Create the CNN model:"
   ]
  },
  {
   "cell_type": "code",
   "execution_count": 12,
   "metadata": {},
   "outputs": [
    {
     "name": "stdout",
     "output_type": "stream",
     "text": [
      "Model: \"sequential\"\n",
      "_________________________________________________________________\n",
      "Layer (type)                 Output Shape              Param #   \n",
      "=================================================================\n",
      "conv1d (Conv1D)              (None, 30, 10)            150       \n",
      "_________________________________________________________________\n",
      "conv1d_1 (Conv1D)            (None, 30, 10)            110       \n",
      "_________________________________________________________________\n",
      "conv1d_2 (Conv1D)            (None, 30, 10)            110       \n",
      "_________________________________________________________________\n",
      "conv1d_3 (Conv1D)            (None, 30, 10)            110       \n",
      "_________________________________________________________________\n",
      "conv1d_4 (Conv1D)            (None, 30, 10)            110       \n",
      "_________________________________________________________________\n",
      "flatten (Flatten)            (None, 300)               0         \n",
      "_________________________________________________________________\n",
      "dropout (Dropout)            (None, 300)               0         \n",
      "_________________________________________________________________\n",
      "dense (Dense)                (None, 100)               30100     \n",
      "_________________________________________________________________\n",
      "dense_1 (Dense)              (None, 1)                 101       \n",
      "=================================================================\n",
      "Total params: 30,791\n",
      "Trainable params: 30,791\n",
      "Non-trainable params: 0\n",
      "_________________________________________________________________\n",
      "None\n"
     ]
    }
   ],
   "source": [
    "nb_features = train_array.shape[2]\n",
    "nb_steps = train_array.shape[1]\n",
    "nb_out = label_array.shape[1]\n",
    "\n",
    "def root_mean_squared_error(y_true, y_pred):\n",
    "        return K.sqrt(K.mean(K.square(y_pred - y_true)))\n",
    "    \n",
    "model = Sequential()\n",
    "model.add(Conv1D(filters=10, kernel_size=1, activation='tanh', input_shape=(nb_steps, nb_features), dtype='float32'))\n",
    "model.add(Conv1D(filters=10, kernel_size=1, activation='tanh'))\n",
    "model.add(Conv1D(filters=10, kernel_size=1, activation='tanh'))\n",
    "model.add(Conv1D(filters=10, kernel_size=1, activation='tanh'))\n",
    "model.add(Conv1D(filters=10, kernel_size=1, activation='tanh'))\n",
    "model.add(Flatten())\n",
    "model.add(Dropout(0.5))\n",
    "model.add(Dense(units=100))\n",
    "model.add(Dense(units=1))\n",
    "\n",
    "model.compile(loss='mean_squared_error', optimizer='adam', metrics=[tf.keras.metrics.RootMeanSquaredError(),'mae'])\n",
    "\n",
    "print(model.summary())"
   ]
  },
  {
   "cell_type": "code",
   "execution_count": 13,
   "metadata": {},
   "outputs": [],
   "source": [
    "start_time = time.time()"
   ]
  },
  {
   "cell_type": "markdown",
   "metadata": {},
   "source": [
    "### Train the model:"
   ]
  },
  {
   "cell_type": "code",
   "execution_count": 14,
   "metadata": {
    "scrolled": true
   },
   "outputs": [
    {
     "name": "stdout",
     "output_type": "stream",
     "text": [
      "Epoch 1/250\n",
      "33/33 [==============================] - 2s 33ms/step - loss: 6498.8866 - root_mean_squared_error: 80.2269 - mae: 69.8208 - val_loss: 868.9711 - val_root_mean_squared_error: 29.4783 - val_mae: 25.5646\n",
      "Epoch 2/250\n",
      "33/33 [==============================] - 0s 7ms/step - loss: 899.8152 - root_mean_squared_error: 29.9876 - mae: 24.7287 - val_loss: 762.1370 - val_root_mean_squared_error: 27.6068 - val_mae: 24.1546\n",
      "Epoch 3/250\n",
      "33/33 [==============================] - 0s 7ms/step - loss: 730.1553 - root_mean_squared_error: 27.0208 - mae: 23.3144 - val_loss: 697.8243 - val_root_mean_squared_error: 26.4164 - val_mae: 22.6114\n",
      "Epoch 4/250\n",
      "33/33 [==============================] - 0s 7ms/step - loss: 670.6050 - root_mean_squared_error: 25.8953 - mae: 22.0597 - val_loss: 624.3569 - val_root_mean_squared_error: 24.9871 - val_mae: 21.2340\n",
      "Epoch 5/250\n",
      "33/33 [==============================] - 0s 7ms/step - loss: 628.0951 - root_mean_squared_error: 25.0613 - mae: 21.1061 - val_loss: 580.7516 - val_root_mean_squared_error: 24.0988 - val_mae: 20.2306\n",
      "Epoch 6/250\n",
      "33/33 [==============================] - 0s 7ms/step - loss: 606.6439 - root_mean_squared_error: 24.6300 - mae: 20.4752 - val_loss: 540.9339 - val_root_mean_squared_error: 23.2580 - val_mae: 19.5171\n",
      "Epoch 7/250\n",
      "33/33 [==============================] - 0s 7ms/step - loss: 579.5446 - root_mean_squared_error: 24.0732 - mae: 19.8933 - val_loss: 503.8612 - val_root_mean_squared_error: 22.4469 - val_mae: 18.7599\n",
      "Epoch 8/250\n",
      "33/33 [==============================] - 0s 7ms/step - loss: 559.0464 - root_mean_squared_error: 23.6427 - mae: 19.3217 - val_loss: 515.0854 - val_root_mean_squared_error: 22.6955 - val_mae: 18.2603\n",
      "Epoch 9/250\n",
      "33/33 [==============================] - 0s 7ms/step - loss: 533.7798 - root_mean_squared_error: 23.1033 - mae: 18.7068 - val_loss: 489.0778 - val_root_mean_squared_error: 22.1151 - val_mae: 17.7031\n",
      "Epoch 10/250\n",
      "33/33 [==============================] - 0s 7ms/step - loss: 520.2695 - root_mean_squared_error: 22.8085 - mae: 18.3383 - val_loss: 444.9721 - val_root_mean_squared_error: 21.0944 - val_mae: 17.1735\n",
      "Epoch 11/250\n",
      "33/33 [==============================] - 0s 7ms/step - loss: 516.5786 - root_mean_squared_error: 22.7274 - mae: 18.2479 - val_loss: 427.4527 - val_root_mean_squared_error: 20.6749 - val_mae: 16.8924\n",
      "Epoch 12/250\n",
      "33/33 [==============================] - 0s 7ms/step - loss: 497.8231 - root_mean_squared_error: 22.3113 - mae: 17.8106 - val_loss: 404.3190 - val_root_mean_squared_error: 20.1077 - val_mae: 16.3385\n",
      "Epoch 13/250\n",
      "33/33 [==============================] - 0s 7ms/step - loss: 489.3250 - root_mean_squared_error: 22.1193 - mae: 17.5372 - val_loss: 398.4886 - val_root_mean_squared_error: 19.9622 - val_mae: 16.1424\n",
      "Epoch 14/250\n",
      "33/33 [==============================] - 0s 7ms/step - loss: 473.1122 - root_mean_squared_error: 21.7509 - mae: 17.1033 - val_loss: 390.8308 - val_root_mean_squared_error: 19.7694 - val_mae: 15.6868\n",
      "Epoch 15/250\n",
      "33/33 [==============================] - 0s 7ms/step - loss: 473.1994 - root_mean_squared_error: 21.7513 - mae: 17.0757 - val_loss: 367.8131 - val_root_mean_squared_error: 19.1785 - val_mae: 15.4971\n",
      "Epoch 16/250\n",
      "33/33 [==============================] - 0s 7ms/step - loss: 451.2579 - root_mean_squared_error: 21.2426 - mae: 16.7113 - val_loss: 377.7131 - val_root_mean_squared_error: 19.4348 - val_mae: 15.1509\n",
      "Epoch 17/250\n",
      "33/33 [==============================] - 0s 7ms/step - loss: 451.3850 - root_mean_squared_error: 21.2453 - mae: 16.6324 - val_loss: 350.9093 - val_root_mean_squared_error: 18.7326 - val_mae: 15.1775\n",
      "Epoch 18/250\n",
      "33/33 [==============================] - 0s 7ms/step - loss: 439.6661 - root_mean_squared_error: 20.9676 - mae: 16.4937 - val_loss: 357.1333 - val_root_mean_squared_error: 18.8980 - val_mae: 14.6864\n",
      "Epoch 19/250\n",
      "33/33 [==============================] - 0s 7ms/step - loss: 438.9984 - root_mean_squared_error: 20.9521 - mae: 16.4840 - val_loss: 346.1465 - val_root_mean_squared_error: 18.6050 - val_mae: 14.6186\n",
      "Epoch 20/250\n",
      "33/33 [==============================] - 0s 7ms/step - loss: 433.6852 - root_mean_squared_error: 20.8247 - mae: 16.3859 - val_loss: 340.0023 - val_root_mean_squared_error: 18.4392 - val_mae: 14.4147\n",
      "Epoch 21/250\n",
      "33/33 [==============================] - 0s 7ms/step - loss: 417.7687 - root_mean_squared_error: 20.4389 - mae: 16.0515 - val_loss: 322.1187 - val_root_mean_squared_error: 17.9477 - val_mae: 14.3346\n",
      "Epoch 22/250\n",
      "33/33 [==============================] - 0s 7ms/step - loss: 427.5726 - root_mean_squared_error: 20.6767 - mae: 16.3120 - val_loss: 326.9791 - val_root_mean_squared_error: 18.0826 - val_mae: 14.0814\n",
      "Epoch 23/250\n",
      "33/33 [==============================] - 0s 7ms/step - loss: 411.2857 - root_mean_squared_error: 20.2798 - mae: 15.9699 - val_loss: 319.9610 - val_root_mean_squared_error: 17.8875 - val_mae: 14.0122\n",
      "Epoch 24/250\n",
      "33/33 [==============================] - 0s 7ms/step - loss: 407.7749 - root_mean_squared_error: 20.1927 - mae: 15.8936 - val_loss: 297.5444 - val_root_mean_squared_error: 17.2495 - val_mae: 14.0425\n",
      "Epoch 25/250\n",
      "33/33 [==============================] - 0s 7ms/step - loss: 398.9363 - root_mean_squared_error: 19.9733 - mae: 15.9066 - val_loss: 298.0977 - val_root_mean_squared_error: 17.2655 - val_mae: 13.9818\n",
      "Epoch 26/250\n",
      "33/33 [==============================] - 0s 7ms/step - loss: 394.2975 - root_mean_squared_error: 19.8564 - mae: 15.7687 - val_loss: 297.3799 - val_root_mean_squared_error: 17.2447 - val_mae: 13.9427\n",
      "Epoch 27/250\n",
      "33/33 [==============================] - 0s 7ms/step - loss: 392.7069 - root_mean_squared_error: 19.8143 - mae: 15.7431 - val_loss: 292.4890 - val_root_mean_squared_error: 17.1023 - val_mae: 13.7224\n",
      "Epoch 28/250\n",
      "33/33 [==============================] - 0s 7ms/step - loss: 393.5737 - root_mean_squared_error: 19.8382 - mae: 15.8617 - val_loss: 279.9043 - val_root_mean_squared_error: 16.7303 - val_mae: 13.7691\n",
      "Epoch 29/250\n",
      "33/33 [==============================] - 0s 7ms/step - loss: 384.2857 - root_mean_squared_error: 19.6027 - mae: 15.6217 - val_loss: 297.9216 - val_root_mean_squared_error: 17.2604 - val_mae: 13.7003\n",
      "Epoch 30/250\n",
      "33/33 [==============================] - 0s 7ms/step - loss: 389.4809 - root_mean_squared_error: 19.7344 - mae: 15.6286 - val_loss: 294.2804 - val_root_mean_squared_error: 17.1546 - val_mae: 13.7773\n",
      "Epoch 31/250\n",
      "33/33 [==============================] - 0s 7ms/step - loss: 378.9101 - root_mean_squared_error: 19.4652 - mae: 15.4839 - val_loss: 277.0408 - val_root_mean_squared_error: 16.6445 - val_mae: 13.9730\n",
      "Epoch 32/250\n",
      "33/33 [==============================] - 0s 7ms/step - loss: 377.6801 - root_mean_squared_error: 19.4338 - mae: 15.5189 - val_loss: 293.9884 - val_root_mean_squared_error: 17.1461 - val_mae: 13.5688\n",
      "Epoch 33/250\n",
      "33/33 [==============================] - 0s 7ms/step - loss: 376.3299 - root_mean_squared_error: 19.3990 - mae: 15.4452 - val_loss: 281.3478 - val_root_mean_squared_error: 16.7734 - val_mae: 13.5624\n",
      "Epoch 34/250\n",
      "33/33 [==============================] - 0s 7ms/step - loss: 388.6131 - root_mean_squared_error: 19.7129 - mae: 15.7350 - val_loss: 270.7117 - val_root_mean_squared_error: 16.4533 - val_mae: 13.7945\n",
      "Epoch 35/250\n",
      "33/33 [==============================] - 0s 7ms/step - loss: 371.3694 - root_mean_squared_error: 19.2706 - mae: 15.3677 - val_loss: 279.5911 - val_root_mean_squared_error: 16.7210 - val_mae: 13.7888\n",
      "Epoch 36/250\n",
      "33/33 [==============================] - 0s 7ms/step - loss: 374.6437 - root_mean_squared_error: 19.3551 - mae: 15.4251 - val_loss: 286.2156 - val_root_mean_squared_error: 16.9179 - val_mae: 13.7575\n",
      "Epoch 37/250\n",
      "33/33 [==============================] - 0s 7ms/step - loss: 378.7229 - root_mean_squared_error: 19.4602 - mae: 15.5136 - val_loss: 275.1847 - val_root_mean_squared_error: 16.5887 - val_mae: 13.6920\n",
      "Epoch 38/250\n",
      "33/33 [==============================] - 0s 7ms/step - loss: 369.0525 - root_mean_squared_error: 19.2106 - mae: 15.3638 - val_loss: 267.3922 - val_root_mean_squared_error: 16.3521 - val_mae: 13.7048\n",
      "Epoch 39/250\n",
      "33/33 [==============================] - 0s 7ms/step - loss: 376.5804 - root_mean_squared_error: 19.4052 - mae: 15.4828 - val_loss: 275.8381 - val_root_mean_squared_error: 16.6084 - val_mae: 13.6228\n"
     ]
    },
    {
     "name": "stdout",
     "output_type": "stream",
     "text": [
      "Epoch 40/250\n",
      "33/33 [==============================] - 0s 7ms/step - loss: 367.5677 - root_mean_squared_error: 19.1718 - mae: 15.3122 - val_loss: 267.7210 - val_root_mean_squared_error: 16.3622 - val_mae: 13.6690\n",
      "Epoch 41/250\n",
      "33/33 [==============================] - 0s 7ms/step - loss: 367.4795 - root_mean_squared_error: 19.1679 - mae: 15.2533 - val_loss: 274.4335 - val_root_mean_squared_error: 16.5660 - val_mae: 13.6716\n",
      "Epoch 42/250\n",
      "33/33 [==============================] - 0s 7ms/step - loss: 370.9917 - root_mean_squared_error: 19.2608 - mae: 15.3894 - val_loss: 267.5980 - val_root_mean_squared_error: 16.3584 - val_mae: 13.7814\n",
      "Epoch 43/250\n",
      "33/33 [==============================] - 0s 7ms/step - loss: 366.7702 - root_mean_squared_error: 19.1501 - mae: 15.4008 - val_loss: 277.5782 - val_root_mean_squared_error: 16.6607 - val_mae: 13.6829\n",
      "Epoch 44/250\n",
      "33/33 [==============================] - 0s 7ms/step - loss: 365.4912 - root_mean_squared_error: 19.1173 - mae: 15.2768 - val_loss: 275.8268 - val_root_mean_squared_error: 16.6080 - val_mae: 13.4881\n",
      "Epoch 45/250\n",
      "33/33 [==============================] - 0s 7ms/step - loss: 362.5369 - root_mean_squared_error: 19.0399 - mae: 15.1951 - val_loss: 265.4525 - val_root_mean_squared_error: 16.2927 - val_mae: 13.5741\n",
      "Epoch 46/250\n",
      "33/33 [==============================] - 0s 7ms/step - loss: 369.9337 - root_mean_squared_error: 19.2332 - mae: 15.3459 - val_loss: 269.5420 - val_root_mean_squared_error: 16.4177 - val_mae: 13.6944\n",
      "Epoch 47/250\n",
      "33/33 [==============================] - 0s 7ms/step - loss: 367.2373 - root_mean_squared_error: 19.1634 - mae: 15.2825 - val_loss: 272.6999 - val_root_mean_squared_error: 16.5136 - val_mae: 13.5304\n",
      "Epoch 48/250\n",
      "33/33 [==============================] - 0s 7ms/step - loss: 371.0741 - root_mean_squared_error: 19.2631 - mae: 15.3673 - val_loss: 264.8680 - val_root_mean_squared_error: 16.2748 - val_mae: 13.5520\n",
      "Epoch 49/250\n",
      "33/33 [==============================] - 0s 7ms/step - loss: 363.3827 - root_mean_squared_error: 19.0624 - mae: 15.1409 - val_loss: 274.8956 - val_root_mean_squared_error: 16.5800 - val_mae: 13.7987\n",
      "Epoch 50/250\n",
      "33/33 [==============================] - 0s 7ms/step - loss: 367.3024 - root_mean_squared_error: 19.1645 - mae: 15.2922 - val_loss: 268.2929 - val_root_mean_squared_error: 16.3796 - val_mae: 13.6565\n",
      "Epoch 51/250\n",
      "33/33 [==============================] - 0s 7ms/step - loss: 366.1457 - root_mean_squared_error: 19.1344 - mae: 15.2931 - val_loss: 273.9174 - val_root_mean_squared_error: 16.5505 - val_mae: 13.7027\n",
      "Epoch 52/250\n",
      "33/33 [==============================] - 0s 7ms/step - loss: 358.3028 - root_mean_squared_error: 18.9279 - mae: 15.1062 - val_loss: 267.7184 - val_root_mean_squared_error: 16.3621 - val_mae: 13.4902\n",
      "Epoch 53/250\n",
      "33/33 [==============================] - 0s 6ms/step - loss: 360.7753 - root_mean_squared_error: 18.9940 - mae: 15.1690 - val_loss: 271.9429 - val_root_mean_squared_error: 16.4907 - val_mae: 13.7710\n",
      "Epoch 54/250\n",
      "33/33 [==============================] - 0s 6ms/step - loss: 362.5548 - root_mean_squared_error: 19.0405 - mae: 15.2129 - val_loss: 262.0987 - val_root_mean_squared_error: 16.1895 - val_mae: 13.4789\n",
      "Epoch 55/250\n",
      "33/33 [==============================] - 0s 6ms/step - loss: 360.0835 - root_mean_squared_error: 18.9756 - mae: 15.1509 - val_loss: 277.0444 - val_root_mean_squared_error: 16.6447 - val_mae: 13.6047\n",
      "Epoch 56/250\n",
      "33/33 [==============================] - 0s 6ms/step - loss: 355.6325 - root_mean_squared_error: 18.8566 - mae: 15.0127 - val_loss: 267.5250 - val_root_mean_squared_error: 16.3562 - val_mae: 13.5265\n",
      "Epoch 57/250\n",
      "33/33 [==============================] - 0s 6ms/step - loss: 363.9925 - root_mean_squared_error: 19.0775 - mae: 15.2353 - val_loss: 267.9855 - val_root_mean_squared_error: 16.3703 - val_mae: 13.6788\n",
      "Epoch 58/250\n",
      "33/33 [==============================] - 0s 7ms/step - loss: 364.0039 - root_mean_squared_error: 19.0784 - mae: 15.1423 - val_loss: 278.4504 - val_root_mean_squared_error: 16.6868 - val_mae: 13.5685\n",
      "Epoch 59/250\n",
      "33/33 [==============================] - 0s 7ms/step - loss: 361.5026 - root_mean_squared_error: 19.0129 - mae: 15.2102 - val_loss: 265.5826 - val_root_mean_squared_error: 16.2967 - val_mae: 13.5299\n",
      "Epoch 60/250\n",
      "33/33 [==============================] - 0s 7ms/step - loss: 361.3663 - root_mean_squared_error: 19.0092 - mae: 15.1585 - val_loss: 275.3462 - val_root_mean_squared_error: 16.5936 - val_mae: 13.6926\n",
      "Epoch 61/250\n",
      "33/33 [==============================] - 0s 7ms/step - loss: 356.1330 - root_mean_squared_error: 18.8714 - mae: 15.0085 - val_loss: 273.7697 - val_root_mean_squared_error: 16.5460 - val_mae: 13.7992\n",
      "Epoch 62/250\n",
      "33/33 [==============================] - 0s 7ms/step - loss: 352.3097 - root_mean_squared_error: 18.7693 - mae: 14.9897 - val_loss: 268.0325 - val_root_mean_squared_error: 16.3717 - val_mae: 13.6357\n",
      "Epoch 63/250\n",
      "33/33 [==============================] - 0s 7ms/step - loss: 354.3829 - root_mean_squared_error: 18.8250 - mae: 14.9415 - val_loss: 271.1573 - val_root_mean_squared_error: 16.4669 - val_mae: 13.7072\n",
      "Epoch 64/250\n",
      "33/33 [==============================] - 0s 7ms/step - loss: 358.7482 - root_mean_squared_error: 18.9400 - mae: 15.0043 - val_loss: 266.3321 - val_root_mean_squared_error: 16.3197 - val_mae: 13.6458\n",
      "Epoch 65/250\n",
      "33/33 [==============================] - 0s 7ms/step - loss: 355.3433 - root_mean_squared_error: 18.8501 - mae: 14.9788 - val_loss: 276.8327 - val_root_mean_squared_error: 16.6383 - val_mae: 14.0800\n",
      "Epoch 66/250\n",
      "33/33 [==============================] - 0s 7ms/step - loss: 358.5504 - root_mean_squared_error: 18.9349 - mae: 15.1629 - val_loss: 276.1125 - val_root_mean_squared_error: 16.6166 - val_mae: 13.9976\n",
      "Epoch 67/250\n",
      "33/33 [==============================] - 0s 7ms/step - loss: 355.5673 - root_mean_squared_error: 18.8562 - mae: 15.0836 - val_loss: 277.4066 - val_root_mean_squared_error: 16.6555 - val_mae: 13.8943\n",
      "Epoch 68/250\n",
      "33/33 [==============================] - 0s 7ms/step - loss: 354.8400 - root_mean_squared_error: 18.8355 - mae: 15.0105 - val_loss: 280.3591 - val_root_mean_squared_error: 16.7439 - val_mae: 13.6394\n",
      "Epoch 69/250\n",
      "33/33 [==============================] - 0s 7ms/step - loss: 362.9030 - root_mean_squared_error: 19.0492 - mae: 15.1306 - val_loss: 266.8480 - val_root_mean_squared_error: 16.3355 - val_mae: 13.7045\n",
      "Epoch 70/250\n",
      "33/33 [==============================] - 0s 7ms/step - loss: 355.9519 - root_mean_squared_error: 18.8663 - mae: 15.0308 - val_loss: 287.6826 - val_root_mean_squared_error: 16.9612 - val_mae: 14.4319\n",
      "Epoch 71/250\n",
      "33/33 [==============================] - 0s 7ms/step - loss: 347.9970 - root_mean_squared_error: 18.6541 - mae: 14.8519 - val_loss: 270.1173 - val_root_mean_squared_error: 16.4352 - val_mae: 13.6328\n",
      "Epoch 72/250\n",
      "33/33 [==============================] - 0s 7ms/step - loss: 349.7349 - root_mean_squared_error: 18.7011 - mae: 14.8447 - val_loss: 268.0851 - val_root_mean_squared_error: 16.3733 - val_mae: 13.7672\n",
      "Epoch 73/250\n",
      "33/33 [==============================] - 0s 7ms/step - loss: 355.4054 - root_mean_squared_error: 18.8518 - mae: 15.0679 - val_loss: 279.3900 - val_root_mean_squared_error: 16.7150 - val_mae: 14.1791\n",
      "Epoch 74/250\n",
      "33/33 [==============================] - 0s 7ms/step - loss: 347.8818 - root_mean_squared_error: 18.6513 - mae: 14.9620 - val_loss: 265.6015 - val_root_mean_squared_error: 16.2973 - val_mae: 13.6017\n",
      "Epoch 75/250\n",
      "33/33 [==============================] - 0s 7ms/step - loss: 350.5208 - root_mean_squared_error: 18.7220 - mae: 14.9716 - val_loss: 269.1982 - val_root_mean_squared_error: 16.4073 - val_mae: 13.7266\n",
      "Epoch 76/250\n",
      "33/33 [==============================] - 0s 7ms/step - loss: 346.7295 - root_mean_squared_error: 18.6201 - mae: 14.8809 - val_loss: 275.5220 - val_root_mean_squared_error: 16.5989 - val_mae: 13.7527\n",
      "Epoch 77/250\n",
      "33/33 [==============================] - 0s 7ms/step - loss: 349.9339 - root_mean_squared_error: 18.7061 - mae: 14.8963 - val_loss: 267.0950 - val_root_mean_squared_error: 16.3430 - val_mae: 13.5909\n",
      "Epoch 78/250\n",
      "33/33 [==============================] - 0s 7ms/step - loss: 347.4333 - root_mean_squared_error: 18.6390 - mae: 14.8899 - val_loss: 266.1507 - val_root_mean_squared_error: 16.3141 - val_mae: 13.7409\n"
     ]
    },
    {
     "name": "stdout",
     "output_type": "stream",
     "text": [
      "Epoch 79/250\n",
      "33/33 [==============================] - 0s 7ms/step - loss: 349.8918 - root_mean_squared_error: 18.7050 - mae: 14.9103 - val_loss: 276.4300 - val_root_mean_squared_error: 16.6262 - val_mae: 13.6284\n",
      "Epoch 80/250\n",
      "33/33 [==============================] - 0s 7ms/step - loss: 348.3520 - root_mean_squared_error: 18.6639 - mae: 14.9137 - val_loss: 259.8712 - val_root_mean_squared_error: 16.1205 - val_mae: 13.3409\n",
      "Epoch 81/250\n",
      "33/33 [==============================] - 0s 7ms/step - loss: 349.3943 - root_mean_squared_error: 18.6902 - mae: 14.8583 - val_loss: 283.4992 - val_root_mean_squared_error: 16.8374 - val_mae: 13.8151\n",
      "Epoch 82/250\n",
      "33/33 [==============================] - 0s 7ms/step - loss: 349.6904 - root_mean_squared_error: 18.6998 - mae: 14.8702 - val_loss: 275.7096 - val_root_mean_squared_error: 16.6045 - val_mae: 14.0446\n",
      "Epoch 83/250\n",
      "33/33 [==============================] - 0s 7ms/step - loss: 341.2952 - root_mean_squared_error: 18.4739 - mae: 14.7561 - val_loss: 281.8787 - val_root_mean_squared_error: 16.7892 - val_mae: 14.1596\n",
      "Epoch 84/250\n",
      "33/33 [==============================] - 0s 7ms/step - loss: 350.1740 - root_mean_squared_error: 18.7125 - mae: 14.9229 - val_loss: 268.8885 - val_root_mean_squared_error: 16.3978 - val_mae: 13.5541\n",
      "Epoch 85/250\n",
      "33/33 [==============================] - 0s 7ms/step - loss: 348.1563 - root_mean_squared_error: 18.6581 - mae: 14.8884 - val_loss: 271.7751 - val_root_mean_squared_error: 16.4856 - val_mae: 13.8565\n",
      "Epoch 86/250\n",
      "33/33 [==============================] - 0s 7ms/step - loss: 348.8789 - root_mean_squared_error: 18.6780 - mae: 14.9100 - val_loss: 266.4480 - val_root_mean_squared_error: 16.3232 - val_mae: 13.7167\n",
      "Epoch 87/250\n",
      "33/33 [==============================] - 0s 7ms/step - loss: 341.6966 - root_mean_squared_error: 18.4842 - mae: 14.6897 - val_loss: 269.8041 - val_root_mean_squared_error: 16.4257 - val_mae: 13.7109\n",
      "Epoch 88/250\n",
      "33/33 [==============================] - 0s 7ms/step - loss: 344.4684 - root_mean_squared_error: 18.5597 - mae: 14.7981 - val_loss: 272.7782 - val_root_mean_squared_error: 16.5160 - val_mae: 13.9530\n",
      "Epoch 89/250\n",
      "33/33 [==============================] - 0s 7ms/step - loss: 347.0508 - root_mean_squared_error: 18.6291 - mae: 14.8347 - val_loss: 265.4886 - val_root_mean_squared_error: 16.2938 - val_mae: 13.5548\n",
      "Epoch 90/250\n",
      "33/33 [==============================] - 0s 7ms/step - loss: 351.8155 - root_mean_squared_error: 18.7561 - mae: 14.8771 - val_loss: 271.7070 - val_root_mean_squared_error: 16.4835 - val_mae: 13.6332\n",
      "Epoch 91/250\n",
      "33/33 [==============================] - 0s 7ms/step - loss: 342.0477 - root_mean_squared_error: 18.4940 - mae: 14.7498 - val_loss: 267.0385 - val_root_mean_squared_error: 16.3413 - val_mae: 13.5879\n",
      "Epoch 92/250\n",
      "33/33 [==============================] - 0s 7ms/step - loss: 343.1642 - root_mean_squared_error: 18.5242 - mae: 14.7759 - val_loss: 270.1610 - val_root_mean_squared_error: 16.4366 - val_mae: 13.5885\n",
      "Epoch 93/250\n",
      "33/33 [==============================] - 0s 7ms/step - loss: 344.1941 - root_mean_squared_error: 18.5523 - mae: 14.7927 - val_loss: 265.8612 - val_root_mean_squared_error: 16.3053 - val_mae: 13.6365\n",
      "Epoch 94/250\n",
      "33/33 [==============================] - 0s 7ms/step - loss: 341.1272 - root_mean_squared_error: 18.4695 - mae: 14.7488 - val_loss: 266.8854 - val_root_mean_squared_error: 16.3366 - val_mae: 13.7750\n",
      "Epoch 95/250\n",
      "33/33 [==============================] - 0s 7ms/step - loss: 337.8228 - root_mean_squared_error: 18.3789 - mae: 14.6471 - val_loss: 272.0819 - val_root_mean_squared_error: 16.4949 - val_mae: 13.8607\n",
      "Epoch 96/250\n",
      "33/33 [==============================] - 0s 7ms/step - loss: 334.4411 - root_mean_squared_error: 18.2870 - mae: 14.5963 - val_loss: 263.4498 - val_root_mean_squared_error: 16.2311 - val_mae: 13.5469\n",
      "Epoch 97/250\n",
      "33/33 [==============================] - 0s 7ms/step - loss: 342.0003 - root_mean_squared_error: 18.4930 - mae: 14.6768 - val_loss: 262.7457 - val_root_mean_squared_error: 16.2094 - val_mae: 13.6083\n",
      "Epoch 98/250\n",
      "33/33 [==============================] - 0s 7ms/step - loss: 340.6821 - root_mean_squared_error: 18.4567 - mae: 14.7089 - val_loss: 264.4663 - val_root_mean_squared_error: 16.2624 - val_mae: 13.6898\n",
      "Epoch 99/250\n",
      "33/33 [==============================] - 0s 7ms/step - loss: 334.7394 - root_mean_squared_error: 18.2956 - mae: 14.5557 - val_loss: 264.8985 - val_root_mean_squared_error: 16.2757 - val_mae: 13.6041\n",
      "Epoch 100/250\n",
      "33/33 [==============================] - 0s 7ms/step - loss: 332.5456 - root_mean_squared_error: 18.2353 - mae: 14.5548 - val_loss: 269.1664 - val_root_mean_squared_error: 16.4063 - val_mae: 13.7605\n",
      "Epoch 101/250\n",
      "33/33 [==============================] - 0s 7ms/step - loss: 334.6446 - root_mean_squared_error: 18.2929 - mae: 14.5774 - val_loss: 260.2566 - val_root_mean_squared_error: 16.1325 - val_mae: 13.2871\n",
      "Epoch 102/250\n",
      "33/33 [==============================] - 0s 7ms/step - loss: 344.9302 - root_mean_squared_error: 18.5722 - mae: 14.7948 - val_loss: 269.5332 - val_root_mean_squared_error: 16.4175 - val_mae: 13.8240\n",
      "Epoch 103/250\n",
      "33/33 [==============================] - 0s 7ms/step - loss: 337.2601 - root_mean_squared_error: 18.3644 - mae: 14.6060 - val_loss: 279.3858 - val_root_mean_squared_error: 16.7148 - val_mae: 13.9527\n",
      "Epoch 104/250\n",
      "33/33 [==============================] - 0s 7ms/step - loss: 345.4242 - root_mean_squared_error: 18.5853 - mae: 14.8087 - val_loss: 273.3745 - val_root_mean_squared_error: 16.5340 - val_mae: 13.9907\n",
      "Epoch 105/250\n",
      "33/33 [==============================] - 0s 7ms/step - loss: 335.2402 - root_mean_squared_error: 18.3086 - mae: 14.5623 - val_loss: 275.3752 - val_root_mean_squared_error: 16.5944 - val_mae: 13.8900\n",
      "Epoch 106/250\n",
      "33/33 [==============================] - 0s 7ms/step - loss: 340.2131 - root_mean_squared_error: 18.4440 - mae: 14.6855 - val_loss: 280.4769 - val_root_mean_squared_error: 16.7474 - val_mae: 13.4334\n",
      "Epoch 107/250\n",
      "33/33 [==============================] - 0s 7ms/step - loss: 343.2662 - root_mean_squared_error: 18.5272 - mae: 14.7197 - val_loss: 264.3322 - val_root_mean_squared_error: 16.2583 - val_mae: 13.6815\n",
      "Epoch 108/250\n",
      "33/33 [==============================] - 0s 7ms/step - loss: 334.2257 - root_mean_squared_error: 18.2818 - mae: 14.5884 - val_loss: 271.6768 - val_root_mean_squared_error: 16.4826 - val_mae: 13.8338\n",
      "Epoch 109/250\n",
      "33/33 [==============================] - 0s 8ms/step - loss: 335.3525 - root_mean_squared_error: 18.3124 - mae: 14.6528 - val_loss: 267.4647 - val_root_mean_squared_error: 16.3543 - val_mae: 13.4812\n",
      "Epoch 110/250\n",
      "33/33 [==============================] - 0s 7ms/step - loss: 330.5908 - root_mean_squared_error: 18.1818 - mae: 14.5203 - val_loss: 260.8036 - val_root_mean_squared_error: 16.1494 - val_mae: 13.5744\n"
     ]
    }
   ],
   "source": [
    "epochs = 250\n",
    "batch_size = 512\n",
    "\n",
    "# learning rate schedule\n",
    "def step_decay(epoch):\n",
    "    initial_lrate = 0.001\n",
    "    drop = 0.5\n",
    "    epochs_drop = 200.0\n",
    "    lrate = initial_lrate * math.pow(drop, math.floor((1+epoch)/epochs_drop))\n",
    "    return lrate\n",
    "\n",
    "lrate = LearningRateScheduler(step_decay)\n",
    "\n",
    "# fit the network\n",
    "history = model.fit(train_array, label_array, epochs=epochs, batch_size=batch_size, validation_split=0.05, verbose=1,\n",
    "          callbacks = [tf.keras.callbacks.EarlyStopping(monitor='val_loss', min_delta=0, patience=30,\n",
    "                                                     verbose=0),\n",
    "                       tf.keras.callbacks.ModelCheckpoint(output_path, monitor='val_loss',\n",
    "                                                       save_best_only=True, mode='min', verbose=0),\n",
    "                       lrate]\n",
    "          )"
   ]
  },
  {
   "cell_type": "code",
   "execution_count": 15,
   "metadata": {
    "scrolled": true
   },
   "outputs": [
    {
     "name": "stdout",
     "output_type": "stream",
     "text": [
      "27.020727396011353\n"
     ]
    }
   ],
   "source": [
    "print (time.time()-start_time)"
   ]
  },
  {
   "cell_type": "code",
   "execution_count": 16,
   "metadata": {
    "scrolled": false
   },
   "outputs": [
    {
     "name": "stdout",
     "output_type": "stream",
     "text": [
      "Model saved as models/tubrofan_cnn.h5\n"
     ]
    }
   ],
   "source": [
    "print(\"Model saved as {}\".format(output_path))"
   ]
  },
  {
   "cell_type": "markdown",
   "metadata": {},
   "source": [
    "### Visualize the Learning History"
   ]
  },
  {
   "cell_type": "code",
   "execution_count": 17,
   "metadata": {},
   "outputs": [
    {
     "data": {
      "image/png": "[encoded data removed]",
      "text/plain": [
       "<Figure size 1152x288 with 3 Axes>"
      ]
     },
     "metadata": {
      "needs_background": "light"
     },
     "output_type": "display_data"
    }
   ],
   "source": [
    "fig, (ax1, ax2, ax3) = plt.subplots(1, 3, figsize=(16, 4))\n",
    "\n",
    "ax1.plot(history.history['mae'])\n",
    "ax1.plot(history.history['val_mae'])\n",
    "ax1.set(title=\"model MAE\",xlabel='epoch', ylabel='MAE')\n",
    "ax1.legend(['train', 'validation'], loc='upper left')\n",
    "\n",
    "ax2.plot(history.history['root_mean_squared_error'])\n",
    "ax2.plot(history.history['val_root_mean_squared_error'])\n",
    "ax2.set(title=\"model RMSE\",xlabel='epoch', ylabel='RMSE')\n",
    "ax2.legend(['train', 'validation'], loc='upper left')\n",
    "\n",
    "ax3.plot(history.history['loss'])\n",
    "ax3.plot(history.history['val_loss'])\n",
    "ax3.set(title=\"model loss\",xlabel='epoch', ylabel='RMSE')\n",
    "ax3.legend(['train', 'validation'], loc='upper left')\n",
    "\n",
    "plt.subplots_adjust(wspace = 0.25)\n",
    "plt.show()"
   ]
  },
  {
   "cell_type": "markdown",
   "metadata": {},
   "source": [
    "## 3 Validation on the Test Data"
   ]
  },
  {
   "cell_type": "code",
   "execution_count": 18,
   "metadata": {},
   "outputs": [
    {
     "name": "stdout",
     "output_type": "stream",
     "text": [
      "Prediction Time: 0.10909914970397949\n",
      "4/4 - 0s - loss: 217.4679 - root_mean_squared_error: 14.7468 - mae: 10.6535\n",
      "\n",
      "loss: 217.46786499023438\n",
      "\n",
      "RMSE: 14.74679183959961\n",
      "\n",
      "MAE: 10.65350341796875\n",
      "\n",
      "Efficiency: 85.78051030635834%\n"
     ]
    }
   ],
   "source": [
    "if os.path.isfile(output_path):\n",
    "    model = load_model(output_path, custom_objects={'root_mean_squared_error': \"root_mean_squared_error\"})\n",
    "    \n",
    "    t0 = time.time()\n",
    "    y_pred_test = model.predict(seq_array_test_last)\n",
    "    print(\"Prediction Time:\",time.time()-t0)\n",
    "    y_true_test = label_array_test_last\n",
    "    \n",
    "    # test metrics\n",
    "    scores_test = model.evaluate(seq_array_test_last, label_array_test_last, verbose=2)\n",
    "    print('\\nloss: {}'.format(scores_test[0]))\n",
    "    print('\\nRMSE: {}'.format(scores_test[1]))\n",
    "    print('\\nMAE: {}'.format(scores_test[2]))\n",
    "    \n",
    "    s1 = ((y_pred_test - y_true_test)**2).sum()\n",
    "    moy = y_pred_test.mean()\n",
    "    s2 = ((y_pred_test - moy)**2).sum()\n",
    "    s = 1 - s1/s2\n",
    "    print('\\nEfficiency: {}%'.format(s * 100))\n",
    "\n",
    "    test_set = pd.DataFrame(y_pred_test)\n",
    "    test_set.to_csv('output/submit_test.csv', index = None)"
   ]
  },
  {
   "cell_type": "code",
   "execution_count": 35,
   "metadata": {},
   "outputs": [],
   "source": [
    "#results = pd.DataFrame(y_pred_test, columns=[\"predictions\"])\n",
    "#results[\"truth\"] = y_true_test"
   ]
  },
  {
   "cell_type": "code",
   "execution_count": 39,
   "metadata": {},
   "outputs": [],
   "source": [
    "#results[\"error\"] = results[\"predictions\"]- results[\"truth\"]"
   ]
  },
  {
   "cell_type": "code",
   "execution_count": 40,
   "metadata": {},
   "outputs": [
    {
     "data": {
      "text/html": [
       "<div>\n",
       "<style scoped>\n",
       "    .dataframe tbody tr th:only-of-type {\n",
       "        vertical-align: middle;\n",
       "    }\n",
       "\n",
       "    .dataframe tbody tr th {\n",
       "        vertical-align: top;\n",
       "    }\n",
       "\n",
       "    .dataframe thead th {\n",
       "        text-align: right;\n",
       "    }\n",
       "</style>\n",
       "<table border=\"1\" class=\"dataframe\">\n",
       "  <thead>\n",
       "    <tr style=\"text-align: right;\">\n",
       "      <th></th>\n",
       "      <th>predictions</th>\n",
       "      <th>truth</th>\n",
       "      <th>error</th>\n",
       "    </tr>\n",
       "  </thead>\n",
       "  <tbody>\n",
       "    <tr>\n",
       "      <th>0</th>\n",
       "      <td>115.463745</td>\n",
       "      <td>112.0</td>\n",
       "      <td>3.463745</td>\n",
       "    </tr>\n",
       "    <tr>\n",
       "      <th>1</th>\n",
       "      <td>115.189049</td>\n",
       "      <td>98.0</td>\n",
       "      <td>17.189049</td>\n",
       "    </tr>\n",
       "    <tr>\n",
       "      <th>2</th>\n",
       "      <td>57.509705</td>\n",
       "      <td>69.0</td>\n",
       "      <td>-11.490295</td>\n",
       "    </tr>\n",
       "    <tr>\n",
       "      <th>3</th>\n",
       "      <td>87.201614</td>\n",
       "      <td>82.0</td>\n",
       "      <td>5.201614</td>\n",
       "    </tr>\n",
       "    <tr>\n",
       "      <th>4</th>\n",
       "      <td>101.026932</td>\n",
       "      <td>91.0</td>\n",
       "      <td>10.026932</td>\n",
       "    </tr>\n",
       "    <tr>\n",
       "      <th>...</th>\n",
       "      <td>...</td>\n",
       "      <td>...</td>\n",
       "      <td>...</td>\n",
       "    </tr>\n",
       "    <tr>\n",
       "      <th>95</th>\n",
       "      <td>113.746689</td>\n",
       "      <td>125.0</td>\n",
       "      <td>-11.253311</td>\n",
       "    </tr>\n",
       "    <tr>\n",
       "      <th>96</th>\n",
       "      <td>88.259949</td>\n",
       "      <td>82.0</td>\n",
       "      <td>6.259949</td>\n",
       "    </tr>\n",
       "    <tr>\n",
       "      <th>97</th>\n",
       "      <td>75.681389</td>\n",
       "      <td>59.0</td>\n",
       "      <td>16.681389</td>\n",
       "    </tr>\n",
       "    <tr>\n",
       "      <th>98</th>\n",
       "      <td>120.305733</td>\n",
       "      <td>117.0</td>\n",
       "      <td>3.305733</td>\n",
       "    </tr>\n",
       "    <tr>\n",
       "      <th>99</th>\n",
       "      <td>24.898247</td>\n",
       "      <td>20.0</td>\n",
       "      <td>4.898247</td>\n",
       "    </tr>\n",
       "  </tbody>\n",
       "</table>\n",
       "<p>100 rows × 3 columns</p>\n",
       "</div>"
      ],
      "text/plain": [
       "    predictions  truth      error\n",
       "0    115.463745  112.0   3.463745\n",
       "1    115.189049   98.0  17.189049\n",
       "2     57.509705   69.0 -11.490295\n",
       "3     87.201614   82.0   5.201614\n",
       "4    101.026932   91.0  10.026932\n",
       "..          ...    ...        ...\n",
       "95   113.746689  125.0 -11.253311\n",
       "96    88.259949   82.0   6.259949\n",
       "97    75.681389   59.0  16.681389\n",
       "98   120.305733  117.0   3.305733\n",
       "99    24.898247   20.0   4.898247\n",
       "\n",
       "[100 rows x 3 columns]"
      ]
     },
     "execution_count": 40,
     "metadata": {},
     "output_type": "execute_result"
    }
   ],
   "source": [
    "#results"
   ]
  }
 ],
 "metadata": {
  "kernelspec": {
   "display_name": "Python 3",
   "language": "python",
   "name": "python3"
  },
  "language_info": {
   "codemirror_mode": {
    "name": "ipython",
    "version": 3
   },
   "file_extension": ".py",
   "mimetype": "text/x-python",
   "name": "python",
   "nbconvert_exporter": "python",
   "pygments_lexer": "ipython3",
   "version": "3.8.5"
  }
 },
 "nbformat": 4,
 "nbformat_minor": 4
}
