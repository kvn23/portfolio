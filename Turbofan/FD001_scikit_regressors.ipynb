{
 "cells": [
  {
   "cell_type": "code",
   "execution_count": 1,
   "metadata": {},
   "outputs": [],
   "source": [
    "# import dependencies\n",
    "import pandas as pd\n",
    "import numpy as np\n",
    "import matplotlib.pyplot as plt\n",
    "\n",
    "from sklearn.preprocessing import StandardScaler, MinMaxScaler\n",
    "from sklearn.decomposition import PCA\n",
    "from sklearn.svm import SVR\n",
    "from sklearn.tree import DecisionTreeRegressor\n",
    "from sklearn.neural_network import MLPRegressor\n",
    "from sklearn.pipeline import Pipeline\n",
    "from sklearn.metrics import make_scorer, mean_squared_error\n",
    "from sklearn.model_selection import GridSearchCV, train_test_split, cross_validate\n",
    "\n",
    "import time\n",
    "import datetime\n",
    "import random\n",
    "from joblib import dump, load\n",
    "\n",
    "# set random seed globally\n",
    "np.random.seed(23)"
   ]
  },
  {
   "cell_type": "code",
   "execution_count": 2,
   "metadata": {},
   "outputs": [],
   "source": [
    "# load training data\n",
    "df = pd.read_csv('input/train_unscaled.csv')"
   ]
  },
  {
   "cell_type": "code",
   "execution_count": 3,
   "metadata": {},
   "outputs": [],
   "source": [
    "# sensor selection based on Li2018\n",
    "sensor_sel = ['s2','s3','s4','s7','s8','s9','s11','s12','s13','s14','s15','s17','s20','s21']\n",
    "\n",
    "# transform into numpy arrays\n",
    "train_data = df[sensor_sel].values\n",
    "train_labels = df['RUL'].values"
   ]
  },
  {
   "cell_type": "code",
   "execution_count": 4,
   "metadata": {},
   "outputs": [],
   "source": [
    "# create scoring object which scoring methods, which might be used for GridSearch and CV\n",
    "scoring = {'mse': make_scorer(mean_squared_error),'rmse': make_scorer(mean_squared_error, squared=False)}"
   ]
  },
  {
   "cell_type": "code",
   "execution_count": 5,
   "metadata": {},
   "outputs": [],
   "source": [
    "# initialize scaler, PCA, classifier objects\n",
    "sc = StandardScaler()\n",
    "pca = PCA(.95)\n",
    "decisiontree = DecisionTreeRegressor()\n",
    "\n",
    "# initialize a pipeline of three steps:\n",
    "# 1) scale data\n",
    "# 2) transform data with PCA\n",
    "# 3) train regressor on data\n",
    "pipe = Pipeline(steps=[('preprocessing', sc),\n",
    "                       ('pca', pca),\n",
    "                        ('regressor', decisiontree)])"
   ]
  },
  {
   "cell_type": "code",
   "execution_count": 6,
   "metadata": {},
   "outputs": [],
   "source": [
    "# initialize lists of parameters for the DecisionTree GridSearch\n",
    "max_depth = [4,6,8,12,16]\n",
    "min_samples_leaf = [6,10,14]\n",
    "\n",
    "param_grid_tree = [\n",
    "    {'regressor': [DecisionTreeRegressor()],\n",
    "     'regressor__max_depth': max_depth,\n",
    "     'regressor__min_samples_leaf': min_samples_leaf,\n",
    "    }]"
   ]
  },
  {
   "cell_type": "code",
   "execution_count": 7,
   "metadata": {},
   "outputs": [],
   "source": [
    "clf_tree = GridSearchCV(pipe, param_grid_tree, scoring=scoring, cv=5, n_jobs=5, refit='mse')"
   ]
  },
  {
   "cell_type": "code",
   "execution_count": 8,
   "metadata": {},
   "outputs": [
    {
     "name": "stdout",
     "output_type": "stream",
     "text": [
      "Elapsed Computing Time for Gridsearch (DecisionTree): 0:00:03\n"
     ]
    }
   ],
   "source": [
    "# Fit the Tree GridSearch\n",
    "start_time = time.time()\n",
    "clf_tree.fit(train_data, train_labels)\n",
    "gs_time = time.time()-start_time\n",
    "print(\"Elapsed Computing Time for Gridsearch (DecisionTree):\",str(datetime.timedelta(seconds=round(gs_time,0))))"
   ]
  },
  {
   "cell_type": "code",
   "execution_count": 9,
   "metadata": {},
   "outputs": [],
   "source": [
    "# initialize lists of parameters for the GridSearch\n",
    "hidden_layer_sizes = [(8,8,8),(8,8),(8,16),(8,32),(16,8),(16,16),(16,32),(32,16),(32,16),(32,32),\n",
    "                      (32,32,32),(16,8,8),(8,16,8),(8,8,16),(16,16,8),(8,16,16),(8,16,32),(8,32,32),\n",
    "                      (16,32,16),(16,32,32),(16,16,32),(32,32,32),(500,500),(100,100,100),(100,100),(100,)]\n",
    "activation = ['tanh','relu']\n",
    "alpha = [0.0001, 0.001, 0.01, 0.1]\n",
    "max_iter = [250]\n",
    "\n",
    "# create a dictionary of all the parameter options \n",
    "param_grid_nn = [\n",
    "    {'regressor': [MLPRegressor()],\n",
    "     'regressor__hidden_layer_sizes': hidden_layer_sizes,\n",
    "     'regressor__activation': activation,\n",
    "     'regressor__alpha': alpha,\n",
    "     'regressor__max_iter': max_iter,\n",
    "    }]"
   ]
  },
  {
   "cell_type": "code",
   "execution_count": 10,
   "metadata": {},
   "outputs": [],
   "source": [
    "clf_nn = GridSearchCV(pipe, param_grid_nn, scoring=scoring, cv=5, n_jobs=5, refit='mse')"
   ]
  },
  {
   "cell_type": "code",
   "execution_count": null,
   "metadata": {},
   "outputs": [],
   "source": [
    "# Fit the NN GridSearch\n",
    "start_time = time.time()\n",
    "clf_nn.fit(train_data, train_labels)\n",
    "gs_time = time.time()-start_time\n",
    "print(\"Elapsed Computing Time for Gridsearch(NN):\",str(datetime.timedelta(seconds=round(gs_time,0))))"
   ]
  },
  {
   "cell_type": "code",
   "execution_count": null,
   "metadata": {},
   "outputs": [],
   "source": [
    "# initialize lists of parameters for the SVM GridSearch\n",
    "c = [0.001, 0.01, 0.1, 1, 10, 100]\n",
    "gamma = [0.001, 0.01, 0.1, 1, 'scale']\n",
    "\n",
    "param_grid_svm = [\n",
    "    {'regressor': [SVR()],\n",
    "     'regressor__C': c,\n",
    "     'regressor__gamma': gamma,\n",
    "    }]"
   ]
  },
  {
   "cell_type": "code",
   "execution_count": null,
   "metadata": {},
   "outputs": [],
   "source": [
    "clf_svm = GridSearchCV(pipe, param_grid_svm, scoring=scoring, cv=5, n_jobs=5, refit='mse')"
   ]
  },
  {
   "cell_type": "code",
   "execution_count": null,
   "metadata": {},
   "outputs": [],
   "source": [
    "# Fit the SVM GridSearch\n",
    "start_time = time.time()\n",
    "clf_svm.fit(train_data, train_labels)\n",
    "gs_time = time.time()-start_time\n",
    "print(\"Elapsed Computing Time for Gridsearch (SVM):\",str(datetime.timedelta(seconds=round(gs_time,0))))"
   ]
  },
  {
   "cell_type": "code",
   "execution_count": null,
   "metadata": {},
   "outputs": [],
   "source": [
    "# view the best parameters based on RMSE\n",
    "print(\"DecisionTree\")\n",
    "print(\"RMSE Cross-Validation Score with best Estimator: {:.2f}\".format(clf_tree.best_score_))\n",
    "print('Best max_depth:', clf_tree.best_estimator_.get_params()['regressor__max_depth'])\n",
    "print('Best min_samples_leaf', clf_tree.best_estimator_.get_params()['regressor__min_samples_leaf'])\n",
    "print(\"------------------------------------------------------------\")\n",
    "print(\"SVM\")\n",
    "print(\"RMSE Cross-Validation Score with best Estimator: {:.2f}\".format(clf_svm.best_score_))\n",
    "print('Best C:', clf_svm.best_estimator_.get_params()['regressor__C'])\n",
    "print('Best gamma', clf_svm.best_estimator_.get_params()['regressor__gamma'])\n",
    "print(\"------------------------------------------------------------\")\n",
    "print(\"NN\")\n",
    "print(\"RMSE Cross-Validation Score with best Estimator: {:.2f}\".format(clf_nn.best_score_))\n",
    "print('Best hidden_layer_sizes:', clf_nn.best_estimator_.get_params()['regressor__hidden_layer_sizes'])\n",
    "print('Best activation', clf_nn.best_estimator_.get_params()['regressor__activation'])\n",
    "print('Best alpha', clf_nn.best_estimator_.get_params()['regressor__alpha'])\n",
    "print('Best max_iter', clf_nn.best_estimator_.get_params()['regressor__max_iter'])"
   ]
  },
  {
   "cell_type": "code",
   "execution_count": null,
   "metadata": {},
   "outputs": [],
   "source": [
    "# cross-validate\n",
    "start_time = time.time()\n",
    "cv_result_tree = cross_validate(clf_tree.best_estimator_, train_data, train_labels, cv=5, scoring=scoring, n_jobs=5,)\n",
    "gs_time = time.time()-start_time\n",
    "print(\"Elapsed Computing Time for CV (DecisionTree):\",str(datetime.timedelta(seconds=round(gs_time,0))))"
   ]
  },
  {
   "cell_type": "code",
   "execution_count": null,
   "metadata": {},
   "outputs": [],
   "source": [
    "start_time = time.time()\n",
    "cv_result_svm = cross_validate(clf_svm.best_estimator_, train_data, train_labels, cv=5, scoring=scoring, n_jobs=5,)\n",
    "gs_time = time.time()-start_time\n",
    "print(\"Elapsed Computing Time for CV (SVM):\",str(datetime.timedelta(seconds=round(gs_time,0))))"
   ]
  },
  {
   "cell_type": "code",
   "execution_count": null,
   "metadata": {},
   "outputs": [],
   "source": [
    "start_time = time.time()\n",
    "cv_result_nn = cross_validate(clf_nn.best_estimator_, train_data, train_labels, cv=5, scoring=scoring, n_jobs=5,)\n",
    "gs_time = time.time()-start_time\n",
    "print(\"Elapsed Computing Time for CV (NN):\",str(datetime.timedelta(seconds=round(gs_time,0))))"
   ]
  },
  {
   "cell_type": "code",
   "execution_count": null,
   "metadata": {
    "scrolled": true
   },
   "outputs": [],
   "source": [
    "print(cv_result_tree)\n",
    "print(cv_result_svm)\n",
    "print(cv_result_nn)"
   ]
  },
  {
   "cell_type": "code",
   "execution_count": null,
   "metadata": {
    "scrolled": true
   },
   "outputs": [],
   "source": [
    "print(\"- 5-Fold Cross-Validation Results -\")\n",
    "print(\"\\n------------------------------------------------------------\")\n",
    "print(\"\\n-Mean-Fit-Time per Fold (Sec)-\")\n",
    "print(\"\\nDecisiontTree:{:.2f}\".format(cv_result_tree['fit_time'].mean()))\n",
    "print(\"\\nSVM:{:.2f}\".format(cv_result_svm['fit_time'].mean()))\n",
    "print(\"\\nNN:{:.2f}\".format(cv_result_nn['fit_time'].mean()))\n",
    "print(\"\\n------------------------------------------------------------\")\n",
    "print(\"\\n-Mean-RMSE-\")\n",
    "print(\"\\nDecisiontTree:{:.2f}\".format(cv_result_tree['test_rmse'].mean()))\n",
    "print(\"\\nSVM:{:.2f}\".format(cv_result_svm['test_rmse'].mean()))\n",
    "print(\"\\nNN:{:.2f}\".format(cv_result_nn['test_rmse'].mean()))\n",
    "print(\"\\n------------------------------------------------------------\")\n",
    "print(\"\\n- Used Pipelines -\\n\")\n",
    "print(clf_tree.best_estimator_)\n",
    "print(clf_svm.best_estimator_)\n",
    "print(clf_nn.best_estimator_)"
   ]
  },
  {
   "cell_type": "code",
   "execution_count": null,
   "metadata": {},
   "outputs": [],
   "source": [
    "start_time = time.time()\n",
    "cv_result_tree_vanilla = cross_validate(DecisionTreeRegressor(), train_data, train_labels, cv=5, scoring=scoring, n_jobs=5,)\n",
    "gs_time = time.time()-start_time\n",
    "print(\"Elapsed Computing Time for CV (DecisionTree):\",str(datetime.timedelta(seconds=round(gs_time,0))))"
   ]
  },
  {
   "cell_type": "code",
   "execution_count": null,
   "metadata": {},
   "outputs": [],
   "source": [
    "start_time = time.time()\n",
    "cv_result_svm_vanilla = cross_validate(SVR(), train_data, train_labels, cv=5, scoring=scoring, n_jobs=5,)\n",
    "gs_time = time.time()-start_time\n",
    "print(\"Elapsed Computing Time for CV (SVM):\",str(datetime.timedelta(seconds=round(gs_time,0))))"
   ]
  },
  {
   "cell_type": "code",
   "execution_count": null,
   "metadata": {},
   "outputs": [],
   "source": [
    "start_time = time.time()\n",
    "cv_result_nn_vanilla = cross_validate(MLPRegressor(), train_data, train_labels, cv=5, scoring=scoring, n_jobs=5,)\n",
    "gs_time = time.time()-start_time\n",
    "print(\"Elapsed Computing Time for CV (NN):\",str(datetime.timedelta(seconds=round(gs_time,0))))"
   ]
  },
  {
   "cell_type": "code",
   "execution_count": null,
   "metadata": {
    "scrolled": true
   },
   "outputs": [],
   "source": [
    "print(\"- 5-Fold Cross-Validation Results -\")\n",
    "print(\"\\n------------------------------------------------------------\")\n",
    "print(\"\\n-Mean-Fit-Time per Fold (Sec)-\")\n",
    "print(\"\\nDecisiontTree:{:.2f}\".format(cv_result_tree_vanilla['fit_time'].mean()))\n",
    "print(\"\\nSVM:{:.2f}\".format(cv_result_svm_vanilla['fit_time'].mean()))\n",
    "print(\"\\nNN:{:.2f}\".format(cv_result_nn_vanilla['fit_time'].mean()))\n",
    "print(\"\\n------------------------------------------------------------\")\n",
    "print(\"\\n-Mean-RMSE-\")\n",
    "print(\"\\nDecisiontTree:{:.2f}\".format(cv_result_tree_vanilla['test_rmse'].mean()))\n",
    "print(\"\\nSVM:{:.2f}\".format(cv_result_svm_vanilla['test_rmse'].mean()))\n",
    "print(\"\\nNN:{:.2f}\".format(cv_result_nn_vanilla['test_rmse'].mean()))\n",
    "print(\"\\n------------------------------------------------------------\")\n",
    "print(\"\\n- Used Pipelines -\\n\")\n",
    "print(clf_tree.best_estimator_)\n",
    "print(clf_svm.best_estimator_)\n",
    "print(clf_nn.best_estimator_)"
   ]
  },
  {
   "cell_type": "code",
   "execution_count": null,
   "metadata": {},
   "outputs": [],
   "source": [
    "# load and preprocess test data\n",
    "df_train_eval = pd.read_csv('input/train_ss.csv')\n",
    "df_test_eval = pd.read_csv('input/test_ss.csv')\n",
    "\n",
    "pca2 = PCA(.95)\n",
    "\n",
    "ev_train_data = df_train_eval[sensor_sel].values\n",
    "ev_train_data = pca2.fit_transform(ev_train_data)\n",
    "ev_train_labels = df_train_eval['RUL'].values\n",
    "\n",
    "ev_test_data = df_test_eval[sensor_sel].values\n",
    "ev_test_data = pca2.transform(ev_test_data)\n",
    "ev_test_labels = df_test_eval['RUL'].values"
   ]
  },
  {
   "cell_type": "code",
   "execution_count": null,
   "metadata": {
    "scrolled": true
   },
   "outputs": [],
   "source": [
    "# train and save individual models\n",
    "tree_eval = clf_tree.best_estimator_.get_params()['regressor']\n",
    "tree_eval.fit(ev_train_data,ev_train_labels)\n",
    "dump(tree_eval, './models/FD001_tree_pipe.joblib')\n",
    "\n",
    "svm_eval = clf_svm.best_estimator_.get_params()['regressor']\n",
    "svm_eval.fit(ev_train_data,ev_train_labels)\n",
    "dump(svm_eval, './models/FD001_svm_pipe.joblib')\n",
    "\n",
    "nn_eval = clf_nn.best_estimator_.get_params()['regressor']\n",
    "nn_eval.fit(ev_train_data,ev_train_labels)\n",
    "dump(nn_eval, './models/FD001_nn_pipe.joblib')"
   ]
  },
  {
   "cell_type": "code",
   "execution_count": null,
   "metadata": {
    "scrolled": true
   },
   "outputs": [],
   "source": [
    "# make predictions on test set\n",
    "t0 = time.time()\n",
    "tree_preds = tree_eval.predict(ev_test_data)\n",
    "print(\"DecisionTree Prediction Time:\",time.time()-t0)\n",
    "\n",
    "t0 = time.time()\n",
    "svm_preds = svm_eval.predict(ev_test_data)\n",
    "print(\"SVM Prediction Time:\",time.time()-t0)\n",
    "\n",
    "t0 = time.time()\n",
    "nn_preds = nn_eval.predict(ev_test_data)\n",
    "print(\"NN Prediction Time:\",time.time()-t0)"
   ]
  },
  {
   "cell_type": "code",
   "execution_count": null,
   "metadata": {},
   "outputs": [],
   "source": [
    "print('Tree RMSE: %.2f'\n",
    "      % mean_squared_error(tree_preds, ev_test_labels, squared=False))\n",
    "print('SVM RMSE: %.2f'\n",
    "      % mean_squared_error(svm_preds, ev_test_labels, squared=False))\n",
    "print('NN RMSE: %.2f'\n",
    "      % mean_squared_error(nn_preds, ev_test_labels, squared=False))"
   ]
  }
 ],
 "metadata": {
  "kernelspec": {
   "display_name": "Python 3",
   "language": "python",
   "name": "python3"
  },
  "language_info": {
   "codemirror_mode": {
    "name": "ipython",
    "version": 3
   },
   "file_extension": ".py",
   "mimetype": "text/x-python",
   "name": "python",
   "nbconvert_exporter": "python",
   "pygments_lexer": "ipython3",
   "version": "3.8.5"
  }
 },
 "nbformat": 4,
 "nbformat_minor": 4
}
